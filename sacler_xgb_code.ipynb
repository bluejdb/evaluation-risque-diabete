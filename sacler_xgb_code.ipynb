{
 "cells": [
  {
   "cell_type": "code",
   "execution_count": 1,
   "id": "af3b9e8a-584a-47a8-8865-9595c7ea0a5f",
   "metadata": {},
   "outputs": [
    {
     "name": "stdout",
     "output_type": "stream",
     "text": [
      "✅ Scaler recalculé et sauvegardé sous 'scaler_xgboost.pkl'\n"
     ]
    }
   ],
   "source": [
    "import pandas as pd\n",
    "from sklearn.preprocessing import StandardScaler\n",
    "import joblib\n",
    "\n",
    "# Chargement des données\n",
    "df = pd.read_csv(\"diabetes_cleaned_v2.csv\")\n",
    "\n",
    "# Sélection des colonnes d'entrée (les mêmes que pour l'entraînement du modèle)\n",
    "X = df[[\"Pregnancies\", \"Glucose\", \"BloodPressure\", \"SkinThickness\",\n",
    "        \"Insulin\", \"BMI\", \"DiabetesPedigreeFunction\", \"Age\"]]\n",
    "\n",
    "# Création et ajustement du scaler\n",
    "scaler = StandardScaler()\n",
    "scaler.fit(X)\n",
    "\n",
    "# Sauvegarde du scaler aligné avec le modèle XGBoost\n",
    "joblib.dump(scaler, \"scaler_xgboost.pkl\")\n",
    "\n",
    "print(\"✅ Scaler recalculé et sauvegardé sous 'scaler_xgboost.pkl'\")\n"
   ]
  },
  {
   "cell_type": "code",
   "execution_count": null,
   "id": "6935203d-db82-41c2-ad75-e697d02404c4",
   "metadata": {},
   "outputs": [],
   "source": []
  }
 ],
 "metadata": {
  "kernelspec": {
   "display_name": "Python 3 (ipykernel)",
   "language": "python",
   "name": "python3"
  },
  "language_info": {
   "codemirror_mode": {
    "name": "ipython",
    "version": 3
   },
   "file_extension": ".py",
   "mimetype": "text/x-python",
   "name": "python",
   "nbconvert_exporter": "python",
   "pygments_lexer": "ipython3",
   "version": "3.12.3"
  }
 },
 "nbformat": 4,
 "nbformat_minor": 5
}
